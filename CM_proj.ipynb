{
 "cells": [
  {
   "cell_type": "code",
   "execution_count": 3,
   "id": "3374489b",
   "metadata": {},
   "outputs": [],
   "source": [
    "import pandas as pd"
   ]
  },
  {
   "cell_type": "code",
   "execution_count": 4,
   "id": "3a92e1b0",
   "metadata": {},
   "outputs": [],
   "source": [
    "import numpy as np"
   ]
  },
  {
   "cell_type": "code",
   "execution_count": 5,
   "id": "f4d81d06",
   "metadata": {},
   "outputs": [],
   "source": [
    "data_appl = pd.read_csv(\"C:\\Drive D\\Study\\Master's\\Sem 4\\Cloud Management\\project\\HistoricalData_aapl.csv\")\n",
    "data_msft = pd.read_csv(\"C:\\Drive D\\Study\\Master's\\Sem 4\\Cloud Management\\project\\HistoricalData_msft.csv\")\n",
    "data_qcom = pd.read_csv(\"C:\\Drive D\\Study\\Master's\\Sem 4\\Cloud Management\\project\\HistoricalData_qcom.csv\")\n",
    "data_amd = pd.read_csv(\"C:\\Drive D\\Study\\Master's\\Sem 4\\Cloud Management\\project\\HistoricalData_amd.csv\")"
   ]
  },
  {
   "cell_type": "code",
   "execution_count": 6,
   "id": "9521ebe8",
   "metadata": {},
   "outputs": [],
   "source": [
    "data_appl['Company'] = 'Apple Inc'\n",
    "data_msft['Company'] = 'Microsoft Inc'\n",
    "data_qcom['Company'] = 'Qualcomm Incorporated'\n",
    "data_amd['Company'] = 'Advanced Micro Devices Inc'"
   ]
  },
  {
   "cell_type": "code",
   "execution_count": 15,
   "id": "45f93723",
   "metadata": {
    "scrolled": true
   },
   "outputs": [
    {
     "data": {
      "text/html": [
       "<div>\n",
       "<style scoped>\n",
       "    .dataframe tbody tr th:only-of-type {\n",
       "        vertical-align: middle;\n",
       "    }\n",
       "\n",
       "    .dataframe tbody tr th {\n",
       "        vertical-align: top;\n",
       "    }\n",
       "\n",
       "    .dataframe thead th {\n",
       "        text-align: right;\n",
       "    }\n",
       "</style>\n",
       "<table border=\"1\" class=\"dataframe\">\n",
       "  <thead>\n",
       "    <tr style=\"text-align: right;\">\n",
       "      <th></th>\n",
       "      <th>Date</th>\n",
       "      <th>Close/Last</th>\n",
       "      <th>Volume</th>\n",
       "      <th>Open</th>\n",
       "      <th>High</th>\n",
       "      <th>Low</th>\n",
       "      <th>Company</th>\n",
       "    </tr>\n",
       "  </thead>\n",
       "  <tbody>\n",
       "    <tr>\n",
       "      <th>0</th>\n",
       "      <td>04/24/2024</td>\n",
       "      <td>$151.74</td>\n",
       "      <td>43412550</td>\n",
       "      <td>$156.56</td>\n",
       "      <td>$157.6598</td>\n",
       "      <td>$150.63</td>\n",
       "      <td>Advanced Micro Devices Inc</td>\n",
       "    </tr>\n",
       "    <tr>\n",
       "      <th>1</th>\n",
       "      <td>04/23/2024</td>\n",
       "      <td>$152.27</td>\n",
       "      <td>46051910</td>\n",
       "      <td>$151.65</td>\n",
       "      <td>$153.495</td>\n",
       "      <td>$150.35</td>\n",
       "      <td>Advanced Micro Devices Inc</td>\n",
       "    </tr>\n",
       "    <tr>\n",
       "      <th>2</th>\n",
       "      <td>04/22/2024</td>\n",
       "      <td>$148.64</td>\n",
       "      <td>49397030</td>\n",
       "      <td>$148.15</td>\n",
       "      <td>$149.89</td>\n",
       "      <td>$145.63</td>\n",
       "      <td>Advanced Micro Devices Inc</td>\n",
       "    </tr>\n",
       "    <tr>\n",
       "      <th>3</th>\n",
       "      <td>04/19/2024</td>\n",
       "      <td>$146.64</td>\n",
       "      <td>71618200</td>\n",
       "      <td>$151.59</td>\n",
       "      <td>$154.25</td>\n",
       "      <td>$145.29</td>\n",
       "      <td>Advanced Micro Devices Inc</td>\n",
       "    </tr>\n",
       "    <tr>\n",
       "      <th>4</th>\n",
       "      <td>04/18/2024</td>\n",
       "      <td>$155.08</td>\n",
       "      <td>52669820</td>\n",
       "      <td>$155.51</td>\n",
       "      <td>$156.96</td>\n",
       "      <td>$152.32</td>\n",
       "      <td>Advanced Micro Devices Inc</td>\n",
       "    </tr>\n",
       "  </tbody>\n",
       "</table>\n",
       "</div>"
      ],
      "text/plain": [
       "         Date Close/Last    Volume     Open       High      Low  \\\n",
       "0  04/24/2024    $151.74  43412550  $156.56  $157.6598  $150.63   \n",
       "1  04/23/2024    $152.27  46051910  $151.65   $153.495  $150.35   \n",
       "2  04/22/2024    $148.64  49397030  $148.15    $149.89  $145.63   \n",
       "3  04/19/2024    $146.64  71618200  $151.59    $154.25  $145.29   \n",
       "4  04/18/2024    $155.08  52669820  $155.51    $156.96  $152.32   \n",
       "\n",
       "                      Company  \n",
       "0  Advanced Micro Devices Inc  \n",
       "1  Advanced Micro Devices Inc  \n",
       "2  Advanced Micro Devices Inc  \n",
       "3  Advanced Micro Devices Inc  \n",
       "4  Advanced Micro Devices Inc  "
      ]
     },
     "execution_count": 15,
     "metadata": {},
     "output_type": "execute_result"
    }
   ],
   "source": [
    "data_amd.head()"
   ]
  },
  {
   "cell_type": "code",
   "execution_count": 8,
   "id": "468be148",
   "metadata": {},
   "outputs": [],
   "source": [
    "df = pd.concat([data_appl, data_msft, data_qcom, data_amd], axis = 0)"
   ]
  },
  {
   "cell_type": "code",
   "execution_count": 13,
   "id": "7ed1999a",
   "metadata": {},
   "outputs": [
    {
     "data": {
      "text/plain": [
       "Date        Close/Last  Volume    Open      High      Low        Company                   \n",
       "01/02/2020  $160.62     22634550  $158.78   $160.73   $158.33    Microsoft Inc                 1\n",
       "09/01/2020  $227.27     25791240  $225.51   $227.45   $224.43    Microsoft Inc                 1\n",
       "09/01/2022  $157.96     74229900  $156.64   $158.42   $154.67    Apple Inc                     1\n",
       "            $129.92     8716270   $129.98   $130.13   $126.0833  Qualcomm Incorporated         1\n",
       "09/01/2021  $301.83     18983830  $302.865  $305.19   $301.49    Microsoft Inc                 1\n",
       "                                                                                              ..\n",
       "05/03/2022  $281.78     25978610  $283.96   $284.13   $280.15    Microsoft Inc                 1\n",
       "            $159.48     88966530  $158.15   $160.71   $156.32    Apple Inc                     1\n",
       "            $144.26     7556824   $144.705  $145.685  $142.76    Qualcomm Incorporated         1\n",
       "05/03/2021  $78.55      66323270  $81.97    $82.00    $78.46     Advanced Micro Devices Inc    1\n",
       "12/31/2021  $336.32     18000800  $338.51   $339.355  $335.85    Microsoft Inc                 1\n",
       "Length: 5036, dtype: int64"
      ]
     },
     "execution_count": 13,
     "metadata": {},
     "output_type": "execute_result"
    }
   ],
   "source": [
    "df.value_counts()"
   ]
  },
  {
   "cell_type": "code",
   "execution_count": 16,
   "id": "3fe4bfc5",
   "metadata": {},
   "outputs": [
    {
     "name": "stdout",
     "output_type": "stream",
     "text": [
      "<class 'pandas.core.frame.DataFrame'>\n",
      "Int64Index: 5036 entries, 0 to 1258\n",
      "Data columns (total 7 columns):\n",
      " #   Column      Non-Null Count  Dtype \n",
      "---  ------      --------------  ----- \n",
      " 0   Date        5036 non-null   object\n",
      " 1   Close/Last  5036 non-null   object\n",
      " 2   Volume      5036 non-null   int64 \n",
      " 3   Open        5036 non-null   object\n",
      " 4   High        5036 non-null   object\n",
      " 5   Low         5036 non-null   object\n",
      " 6   Company     5036 non-null   object\n",
      "dtypes: int64(1), object(6)\n",
      "memory usage: 314.8+ KB\n"
     ]
    }
   ],
   "source": [
    "df.info()"
   ]
  },
  {
   "cell_type": "code",
   "execution_count": 17,
   "id": "e10e393a",
   "metadata": {},
   "outputs": [
    {
     "data": {
      "text/plain": [
       "Date          0\n",
       "Close/Last    0\n",
       "Volume        0\n",
       "Open          0\n",
       "High          0\n",
       "Low           0\n",
       "Company       0\n",
       "dtype: int64"
      ]
     },
     "execution_count": 17,
     "metadata": {},
     "output_type": "execute_result"
    }
   ],
   "source": [
    "df.isna().sum()"
   ]
  },
  {
   "cell_type": "code",
   "execution_count": 18,
   "id": "370458d7",
   "metadata": {},
   "outputs": [],
   "source": [
    "df['Close/Last'] = df['Close/Last'].replace('[\\$,]', '', regex=True).astype(float)\n",
    "df['Open'] = df['Open'].replace('[\\$,]', '', regex=True).astype(float)\n",
    "df['High'] = df['High'].replace('[\\$,]', '', regex=True).astype(float)\n",
    "df['Low'] = df['Low'].replace('[\\$,]', '', regex=True).astype(float)"
   ]
  },
  {
   "cell_type": "code",
   "execution_count": 20,
   "id": "d531d7a2",
   "metadata": {},
   "outputs": [
    {
     "name": "stdout",
     "output_type": "stream",
     "text": [
      "<class 'pandas.core.frame.DataFrame'>\n",
      "Int64Index: 5036 entries, 0 to 1258\n",
      "Data columns (total 7 columns):\n",
      " #   Column      Non-Null Count  Dtype  \n",
      "---  ------      --------------  -----  \n",
      " 0   Date        5036 non-null   object \n",
      " 1   Close/Last  5036 non-null   float64\n",
      " 2   Volume      5036 non-null   int64  \n",
      " 3   Open        5036 non-null   float64\n",
      " 4   High        5036 non-null   float64\n",
      " 5   Low         5036 non-null   float64\n",
      " 6   Company     5036 non-null   object \n",
      "dtypes: float64(4), int64(1), object(2)\n",
      "memory usage: 314.8+ KB\n"
     ]
    }
   ],
   "source": [
    "df.info()"
   ]
  },
  {
   "cell_type": "code",
   "execution_count": 21,
   "id": "58201f33",
   "metadata": {},
   "outputs": [],
   "source": [
    "df['day']=pd.to_datetime(df['Date']).dt.day\n",
    "df['month']=pd.to_datetime(df['Date']).dt.month\n",
    "df['year']=pd.to_datetime(df['Date']).dt.year\n",
    "df['quarter']=pd.to_datetime(df['Date']).dt.quarter"
   ]
  },
  {
   "cell_type": "code",
   "execution_count": 25,
   "id": "49323f3d",
   "metadata": {},
   "outputs": [
    {
     "data": {
      "text/html": [
       "<div>\n",
       "<style scoped>\n",
       "    .dataframe tbody tr th:only-of-type {\n",
       "        vertical-align: middle;\n",
       "    }\n",
       "\n",
       "    .dataframe tbody tr th {\n",
       "        vertical-align: top;\n",
       "    }\n",
       "\n",
       "    .dataframe thead th {\n",
       "        text-align: right;\n",
       "    }\n",
       "</style>\n",
       "<table border=\"1\" class=\"dataframe\">\n",
       "  <thead>\n",
       "    <tr style=\"text-align: right;\">\n",
       "      <th></th>\n",
       "      <th>Date</th>\n",
       "      <th>Close/Last</th>\n",
       "      <th>Volume</th>\n",
       "      <th>Open</th>\n",
       "      <th>High</th>\n",
       "      <th>Low</th>\n",
       "      <th>Company</th>\n",
       "      <th>day</th>\n",
       "      <th>month</th>\n",
       "      <th>year</th>\n",
       "      <th>quarter</th>\n",
       "    </tr>\n",
       "  </thead>\n",
       "  <tbody>\n",
       "    <tr>\n",
       "      <th>0</th>\n",
       "      <td>04/24/2024</td>\n",
       "      <td>169.02</td>\n",
       "      <td>48251840</td>\n",
       "      <td>166.540</td>\n",
       "      <td>169.30</td>\n",
       "      <td>166.210</td>\n",
       "      <td>Apple Inc</td>\n",
       "      <td>24</td>\n",
       "      <td>4</td>\n",
       "      <td>2024</td>\n",
       "      <td>2</td>\n",
       "    </tr>\n",
       "    <tr>\n",
       "      <th>1</th>\n",
       "      <td>04/23/2024</td>\n",
       "      <td>166.90</td>\n",
       "      <td>49537760</td>\n",
       "      <td>165.350</td>\n",
       "      <td>167.05</td>\n",
       "      <td>164.920</td>\n",
       "      <td>Apple Inc</td>\n",
       "      <td>23</td>\n",
       "      <td>4</td>\n",
       "      <td>2024</td>\n",
       "      <td>2</td>\n",
       "    </tr>\n",
       "    <tr>\n",
       "      <th>2</th>\n",
       "      <td>04/22/2024</td>\n",
       "      <td>165.84</td>\n",
       "      <td>48116440</td>\n",
       "      <td>165.515</td>\n",
       "      <td>167.26</td>\n",
       "      <td>164.770</td>\n",
       "      <td>Apple Inc</td>\n",
       "      <td>22</td>\n",
       "      <td>4</td>\n",
       "      <td>2024</td>\n",
       "      <td>2</td>\n",
       "    </tr>\n",
       "    <tr>\n",
       "      <th>3</th>\n",
       "      <td>04/19/2024</td>\n",
       "      <td>165.00</td>\n",
       "      <td>68149380</td>\n",
       "      <td>166.210</td>\n",
       "      <td>166.40</td>\n",
       "      <td>164.075</td>\n",
       "      <td>Apple Inc</td>\n",
       "      <td>19</td>\n",
       "      <td>4</td>\n",
       "      <td>2024</td>\n",
       "      <td>2</td>\n",
       "    </tr>\n",
       "    <tr>\n",
       "      <th>4</th>\n",
       "      <td>04/18/2024</td>\n",
       "      <td>167.04</td>\n",
       "      <td>43122900</td>\n",
       "      <td>168.030</td>\n",
       "      <td>168.64</td>\n",
       "      <td>166.550</td>\n",
       "      <td>Apple Inc</td>\n",
       "      <td>18</td>\n",
       "      <td>4</td>\n",
       "      <td>2024</td>\n",
       "      <td>2</td>\n",
       "    </tr>\n",
       "  </tbody>\n",
       "</table>\n",
       "</div>"
      ],
      "text/plain": [
       "         Date  Close/Last    Volume     Open    High      Low    Company  day  \\\n",
       "0  04/24/2024      169.02  48251840  166.540  169.30  166.210  Apple Inc   24   \n",
       "1  04/23/2024      166.90  49537760  165.350  167.05  164.920  Apple Inc   23   \n",
       "2  04/22/2024      165.84  48116440  165.515  167.26  164.770  Apple Inc   22   \n",
       "3  04/19/2024      165.00  68149380  166.210  166.40  164.075  Apple Inc   19   \n",
       "4  04/18/2024      167.04  43122900  168.030  168.64  166.550  Apple Inc   18   \n",
       "\n",
       "   month  year  quarter  \n",
       "0      4  2024        2  \n",
       "1      4  2024        2  \n",
       "2      4  2024        2  \n",
       "3      4  2024        2  \n",
       "4      4  2024        2  "
      ]
     },
     "execution_count": 25,
     "metadata": {},
     "output_type": "execute_result"
    }
   ],
   "source": [
    "df.head()"
   ]
  },
  {
   "cell_type": "code",
   "execution_count": 28,
   "id": "3cf8408a",
   "metadata": {},
   "outputs": [],
   "source": [
    "df.to_csv(\"C:\\Drive D\\Study\\Master's\\Sem 4\\Cloud Management\\project\\cleaned_stock_data.csv\", index=False)"
   ]
  }
 ],
 "metadata": {
  "kernelspec": {
   "display_name": "Python 3 (ipykernel)",
   "language": "python",
   "name": "python3"
  },
  "language_info": {
   "codemirror_mode": {
    "name": "ipython",
    "version": 3
   },
   "file_extension": ".py",
   "mimetype": "text/x-python",
   "name": "python",
   "nbconvert_exporter": "python",
   "pygments_lexer": "ipython3",
   "version": "3.9.0"
  }
 },
 "nbformat": 4,
 "nbformat_minor": 5
}
